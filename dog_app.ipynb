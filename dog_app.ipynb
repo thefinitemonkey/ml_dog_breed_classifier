{
 "cells": [
  {
   "cell_type": "markdown",
   "metadata": {},
   "source": [
    "# Artificial Intelligence Nanodegree\n",
    "\n",
    "## Convolutional Neural Networks\n",
    "\n",
    "## Project: Write an Algorithm for a Dog Identification App \n",
    "\n",
    "---\n",
    "\n",
    "In this notebook, some template code has already been provided for you, and you will need to implement additional functionality to successfully complete this project. You will not need to modify the included code beyond what is requested. Sections that begin with **'(IMPLEMENTATION)'** in the header indicate that the following block of code will require additional functionality which you must provide. Instructions will be provided for each section, and the specifics of the implementation are marked in the code block with a 'TODO' statement. Please be sure to read the instructions carefully! \n",
    "\n",
    "> **Note**: Once you have completed all of the code implementations, you need to finalize your work by exporting the iPython Notebook as an HTML document. Before exporting the notebook to html, all of the code cells need to have been run so that reviewers can see the final implementation and output. You can then export the notebook by using the menu above and navigating to  \\n\",\n",
    "    \"**File -> Download as -> HTML (.html)**. Include the finished document along with this notebook as your submission.\n",
    "\n",
    "In addition to implementing code, there will be questions that you must answer which relate to the project and your implementation. Each section where you will answer a question is preceded by a **'Question X'** header. Carefully read each question and provide thorough answers in the following text boxes that begin with **'Answer:'**. Your project submission will be evaluated based on your answers to each of the questions and the implementation you provide.\n",
    "\n",
    ">**Note:** Code and Markdown cells can be executed using the **Shift + Enter** keyboard shortcut.  Markdown cells can be edited by double-clicking the cell to enter edit mode.\n",
    "\n",
    "The rubric contains _optional_ \"Stand Out Suggestions\" for enhancing the project beyond the minimum requirements. If you decide to pursue the \"Stand Out Suggestions\", you should include the code in this IPython notebook.\n",
    "\n",
    "\n",
    "\n",
    "---\n",
    "### Why We're Here \n",
    "\n",
    "In this notebook, you will make the first steps towards developing an algorithm that could be used as part of a mobile or web app.  At the end of this project, your code will accept any user-supplied image as input.  If a dog is detected in the image, it will provide an estimate of the dog's breed.  If a human is detected, it will provide an estimate of the dog breed that is most resembling.  The image below displays potential sample output of your finished project (... but we expect that each student's algorithm will behave differently!). \n",
    "\n",
    "![Sample Dog Output](images/sample_dog_output.png)\n",
    "\n",
    "In this real-world setting, you will need to piece together a series of models to perform different tasks; for instance, the algorithm that detects humans in an image will be different from the CNN that infers dog breed.  There are many points of possible failure, and no perfect algorithm exists.  Your imperfect solution will nonetheless create a fun user experience!\n",
    "\n",
    "### The Road Ahead\n",
    "\n",
    "We break the notebook into separate steps.  Feel free to use the links below to navigate the notebook.\n",
    "\n",
    "* [Step 0](#step0): Import Datasets\n",
    "* [Step 1](#step1): Detect Humans\n",
    "* [Step 2](#step2): Detect Dogs\n",
    "* [Step 3](#step3): Create a CNN to Classify Dog Breeds (from Scratch)\n",
    "* [Step 4](#step4): Use a CNN to Classify Dog Breeds (using Transfer Learning)\n",
    "* [Step 5](#step5): Create a CNN to Classify Dog Breeds (using Transfer Learning)\n",
    "* [Step 6](#step6): Write your Algorithm\n",
    "* [Step 7](#step7): Test Your Algorithm\n",
    "\n",
    "---\n",
    "<a id='step0'></a>\n",
    "## Step 0: Import Datasets\n",
    "\n",
    "### Import Dog Dataset\n",
    "\n",
    "In the code cell below, we import a dataset of dog images.  We populate a few variables through the use of the `load_files` function from the scikit-learn library:\n",
    "- `train_files`, `valid_files`, `test_files` - numpy arrays containing file paths to images\n",
    "- `train_targets`, `valid_targets`, `test_targets` - numpy arrays containing onehot-encoded classification labels \n",
    "- `dog_names` - list of string-valued dog breed names for translating labels"
   ]
  },
  {
   "cell_type": "code",
   "execution_count": 1,
   "metadata": {},
   "outputs": [
    {
     "name": "stderr",
     "output_type": "stream",
     "text": [
      "Using TensorFlow backend.\n"
     ]
    },
    {
     "name": "stdout",
     "output_type": "stream",
     "text": [
      "There are 133 total dog categories.\n",
      "There are 8351 total dog images.\n",
      "\n",
      "There are 6680 training dog images.\n",
      "There are 835 validation dog images.\n",
      "There are 836 test dog images.\n"
     ]
    }
   ],
   "source": [
    "from sklearn.datasets import load_files       \n",
    "from keras.utils import np_utils\n",
    "import numpy as np\n",
    "from glob import glob\n",
    "\n",
    "# define function to load train, test, and validation datasets\n",
    "def load_dataset(path):\n",
    "    data = load_files(path)\n",
    "    dog_files = np.array(data['filenames'])\n",
    "    dog_targets = np_utils.to_categorical(np.array(data['target']), 133)\n",
    "    return dog_files, dog_targets\n",
    "\n",
    "# load train, test, and validation datasets\n",
    "train_files, train_targets = load_dataset('dogImages/train')\n",
    "valid_files, valid_targets = load_dataset('dogImages/valid')\n",
    "test_files, test_targets = load_dataset('dogImages/test')\n",
    "\n",
    "# load list of dog names\n",
    "dog_names = [item[20:-1] for item in sorted(glob(\"dogImages/train/*/\"))]\n",
    "\n",
    "# print statistics about the dataset\n",
    "print('There are %d total dog categories.' % len(dog_names))\n",
    "print('There are %s total dog images.\\n' % len(np.hstack([train_files, valid_files, test_files])))\n",
    "print('There are %d training dog images.' % len(train_files))\n",
    "print('There are %d validation dog images.' % len(valid_files))\n",
    "print('There are %d test dog images.'% len(test_files))"
   ]
  },
  {
   "cell_type": "markdown",
   "metadata": {},
   "source": [
    "### Import Human Dataset\n",
    "\n",
    "In the code cell below, we import a dataset of human images, where the file paths are stored in the numpy array `human_files`."
   ]
  },
  {
   "cell_type": "code",
   "execution_count": 2,
   "metadata": {},
   "outputs": [
    {
     "name": "stdout",
     "output_type": "stream",
     "text": [
      "There are 13233 total human images.\n"
     ]
    }
   ],
   "source": [
    "import random\n",
    "random.seed(8675309)\n",
    "\n",
    "# load filenames in shuffled human dataset\n",
    "human_files = np.array(glob(\"lfw/*/*\"))\n",
    "random.shuffle(human_files)\n",
    "\n",
    "# print statistics about the dataset\n",
    "print('There are %d total human images.' % len(human_files))"
   ]
  },
  {
   "cell_type": "markdown",
   "metadata": {},
   "source": [
    "---\n",
    "<a id='step1'></a>\n",
    "## Step 1: Detect Humans\n",
    "\n",
    "We use OpenCV's implementation of [Haar feature-based cascade classifiers](http://docs.opencv.org/trunk/d7/d8b/tutorial_py_face_detection.html) to detect human faces in images.  OpenCV provides many pre-trained face detectors, stored as XML files on [github](https://github.com/opencv/opencv/tree/master/data/haarcascades).  We have downloaded one of these detectors and stored it in the `haarcascades` directory.\n",
    "\n",
    "In the next code cell, we demonstrate how to use this detector to find human faces in a sample image."
   ]
  },
  {
   "cell_type": "code",
   "execution_count": 3,
   "metadata": {},
   "outputs": [
    {
     "name": "stdout",
     "output_type": "stream",
     "text": [
      "Number of faces detected: 1\n"
     ]
    },
    {
     "data": {
      "image/png": "[encoded data removed]",
      "text/plain": [
       "<matplotlib.figure.Figure at 0x7fb318360198>"
      ]
     },
     "metadata": {},
     "output_type": "display_data"
    }
   ],
   "source": [
    "import cv2                \n",
    "import matplotlib.pyplot as plt                        \n",
    "%matplotlib inline                               \n",
    "\n",
    "# extract pre-trained face detector\n",
    "face_cascade = cv2.CascadeClassifier('haarcascades/haarcascade_frontalface_alt.xml')\n",
    "\n",
    "# load color (BGR) image\n",
    "img = cv2.imread(human_files[499])\n",
    "# convert BGR image to grayscale\n",
    "gray = cv2.cvtColor(img, cv2.COLOR_BGR2GRAY)\n",
    "\n",
    "# find faces in image\n",
    "faces = face_cascade.detectMultiScale(gray)\n",
    "\n",
    "# print number of faces detected in the image\n",
    "print('Number of faces detected:', len(faces))\n",
    "\n",
    "# get bounding box for each detected face\n",
    "for (x,y,w,h) in faces:\n",
    "    # add bounding box to color image\n",
    "    cv2.rectangle(img,(x,y),(x+w,y+h),(255,0,0),2)\n",
    "    \n",
    "# convert BGR image to RGB for plotting\n",
    "cv_rgb = cv2.cvtColor(img, cv2.COLOR_BGR2RGB)\n",
    "\n",
    "# display the image, along with bounding box\n",
    "plt.imshow(cv_rgb)\n",
    "plt.show()"
   ]
  },
  {
   "cell_type": "markdown",
   "metadata": {},
   "source": [
    "Before using any of the face detectors, it is standard procedure to convert the images to grayscale.  The `detectMultiScale` function executes the classifier stored in `face_cascade` and takes the grayscale image as a parameter.  \n",
    "\n",
    "In the above code, `faces` is a numpy array of detected faces, where each row corresponds to a detected face.  Each detected face is a 1D array with four entries that specifies the bounding box of the detected face.  The first two entries in the array (extracted in the above code as `x` and `y`) specify the horizontal and vertical positions of the top left corner of the bounding box.  The last two entries in the array (extracted here as `w` and `h`) specify the width and height of the box.\n",
    "\n",
    "### Write a Human Face Detector\n",
    "\n",
    "We can use this procedure to write a function that returns `True` if a human face is detected in an image and `False` otherwise.  This function, aptly named `face_detector`, takes a string-valued file path to an image as input and appears in the code block below."
   ]
  },
  {
   "cell_type": "code",
   "execution_count": 4,
   "metadata": {
    "collapsed": true
   },
   "outputs": [],
   "source": [
    "# returns \"True\" if face is detected in image stored at img_path\n",
    "def face_detector(img_path):\n",
    "    img = cv2.imread(img_path)\n",
    "    gray = cv2.cvtColor(img, cv2.COLOR_BGR2GRAY)\n",
    "    faces = face_cascade.detectMultiScale(gray)\n",
    "    return len(faces) > 0"
   ]
  },
  {
   "cell_type": "markdown",
   "metadata": {},
   "source": [
    "### (IMPLEMENTATION) Assess the Human Face Detector\n",
    "\n",
    "__Question 1:__ Use the code cell below to test the performance of the `face_detector` function.  \n",
    "- What percentage of the first 100 images in `human_files` have a detected human face?  \n",
    "- What percentage of the first 100 images in `dog_files` have a detected human face? \n",
    "\n",
    "Ideally, we would like 100% of human images with a detected face and 0% of dog images with a detected face.  You will see that our algorithm falls short of this goal, but still gives acceptable performance.  We extract the file paths for the first 100 images from each of the datasets and store them in the numpy arrays `human_files_short` and `dog_files_short`.\n",
    "\n",
    "__Answer:__ "
   ]
  },
  {
   "cell_type": "code",
   "execution_count": 5,
   "metadata": {},
   "outputs": [
    {
     "name": "stdout",
     "output_type": "stream",
     "text": [
      "Human/human percentage found: 100%\n",
      "Dog/human percentage found: 11%\n"
     ]
    }
   ],
   "source": [
    "human_files_short = human_files[:100]\n",
    "dog_files_short = train_files[:100]\n",
    "# Do NOT modify the code above this line.\n",
    "\n",
    "## TODO: Test the performance of the face_detector algorithm \n",
    "## on the images in human_files_short and dog_files_short.\n",
    "humanFound = 0\n",
    "for img in human_files_short:\n",
    "    if (face_detector(img) > 0): humanFound = humanFound + 1\n",
    "print('Human/human percentage found: %d%%' % humanFound)\n",
    "\n",
    "dogFound = 0\n",
    "for img in dog_files_short:\n",
    "    if (face_detector(img) > 0): dogFound = dogFound + 1\n",
    "print('Dog/human percentage found: %d%%' % dogFound)"
   ]
  },
  {
   "cell_type": "markdown",
   "metadata": {},
   "source": [
    "__Question 2:__ This algorithmic choice necessitates that we communicate to the user that we accept human images only when they provide a clear view of a face (otherwise, we risk having unneccessarily frustrated users!). In your opinion, is this a reasonable expectation to pose on the user? If not, can you think of a way to detect humans in images that does not necessitate an image with a clearly presented face?\n",
    "\n",
    "__Answer:__ This probably isn't a realistic expectation to set for users. Many users are likely to never read/see the caveat in the user guide. In group images there will also rarely be a clear view of all faces. This dataset could be enhanced to detect more faces in profile or not in clear view by including images in full profile and using data augmentation.\n",
    "\n",
    "We suggest the face detector from OpenCV as a potential way to detect human images in your algorithm, but you are free to explore other approaches, especially approaches that make use of deep learning :).  Please use the code cell below to design and test your own face detection algorithm.  If you decide to pursue this _optional_ task, report performance on each of the datasets."
   ]
  },
  {
   "cell_type": "code",
   "execution_count": 6,
   "metadata": {
    "collapsed": true
   },
   "outputs": [],
   "source": [
    "## (Optional) TODO: Report the performance of another  \n",
    "## face detection algorithm on the LFW dataset\n",
    "### Feel free to use as many code cells as needed."
   ]
  },
  {
   "cell_type": "markdown",
   "metadata": {},
   "source": [
    "---\n",
    "<a id='step2'></a>\n",
    "## Step 2: Detect Dogs\n",
    "\n",
    "In this section, we use a pre-trained [ResNet-50](http://ethereon.github.io/netscope/#/gist/db945b393d40bfa26006) model to detect dogs in images.  Our first line of code downloads the ResNet-50 model, along with weights that have been trained on [ImageNet](http://www.image-net.org/), a very large, very popular dataset used for image classification and other vision tasks.  ImageNet contains over 10 million URLs, each linking to an image containing an object from one of [1000 categories](https://gist.github.com/yrevar/942d3a0ac09ec9e5eb3a).  Given an image, this pre-trained ResNet-50 model returns a prediction (derived from the available categories in ImageNet) for the object that is contained in the image."
   ]
  },
  {
   "cell_type": "code",
   "execution_count": 7,
   "metadata": {},
   "outputs": [
    {
     "name": "stdout",
     "output_type": "stream",
     "text": [
      "WARNING:tensorflow:From /home/doug/anaconda3/envs/dog-project/lib/python3.6/site-packages/keras/backend/tensorflow_backend.py:1062: calling reduce_prod (from tensorflow.python.ops.math_ops) with keep_dims is deprecated and will be removed in a future version.\n",
      "Instructions for updating:\n",
      "keep_dims is deprecated, use keepdims instead\n"
     ]
    }
   ],
   "source": [
    "from keras.applications.resnet50 import ResNet50\n",
    "\n",
    "# define ResNet50 model\n",
    "ResNet50_model = ResNet50(weights='imagenet')"
   ]
  },
  {
   "cell_type": "markdown",
   "metadata": {},
   "source": [
    "### Pre-process the Data\n",
    "\n",
    "When using TensorFlow as backend, Keras CNNs require a 4D array (which we'll also refer to as a 4D tensor) as input, with shape\n",
    "\n",
    "$$\n",
    "(\\text{nb_samples}, \\text{rows}, \\text{columns}, \\text{channels}),\n",
    "$$\n",
    "\n",
    "where `nb_samples` corresponds to the total number of images (or samples), and `rows`, `columns`, and `channels` correspond to the number of rows, columns, and channels for each image, respectively.  \n",
    "\n",
    "The `path_to_tensor` function below takes a string-valued file path to a color image as input and returns a 4D tensor suitable for supplying to a Keras CNN.  The function first loads the image and resizes it to a square image that is $224 \\times 224$ pixels.  Next, the image is converted to an array, which is then resized to a 4D tensor.  In this case, since we are working with color images, each image has three channels.  Likewise, since we are processing a single image (or sample), the returned tensor will always have shape\n",
    "\n",
    "$$\n",
    "(1, 224, 224, 3).\n",
    "$$\n",
    "\n",
    "The `paths_to_tensor` function takes a numpy array of string-valued image paths as input and returns a 4D tensor with shape \n",
    "\n",
    "$$\n",
    "(\\text{nb_samples}, 224, 224, 3).\n",
    "$$\n",
    "\n",
    "Here, `nb_samples` is the number of samples, or number of images, in the supplied array of image paths.  It is best to think of `nb_samples` as the number of 3D tensors (where each 3D tensor corresponds to a different image) in your dataset!"
   ]
  },
  {
   "cell_type": "code",
   "execution_count": 8,
   "metadata": {
    "collapsed": true
   },
   "outputs": [],
   "source": [
    "from keras.preprocessing import image                  \n",
    "from tqdm import tqdm\n",
    "\n",
    "def path_to_tensor(img_path):\n",
    "    # loads RGB image as PIL.Image.Image type\n",
    "    img = image.load_img(img_path, target_size=(224, 224))\n",
    "    # convert PIL.Image.Image type to 3D tensor with shape (224, 224, 3)\n",
    "    x = image.img_to_array(img)\n",
    "    # convert 3D tensor to 4D tensor with shape (1, 224, 224, 3) and return 4D tensor\n",
    "    return np.expand_dims(x, axis=0)\n",
    "\n",
    "def paths_to_tensor(img_paths):\n",
    "    print('List of lists in memory: %s' % np.who())\n",
    "    print('Taking list of paths and converting tensors')\n",
    "    list_of_tensors = [path_to_tensor(img_path) for img_path in tqdm(img_paths)]\n",
    "    print('Finished conversions moving to vstack')\n",
    "    return np.vstack(list_of_tensors)\n",
    "    pring('Finished vstack')"
   ]
  },
  {
   "cell_type": "markdown",
   "metadata": {},
   "source": [
    "### Making Predictions with ResNet-50\n",
    "\n",
    "Getting the 4D tensor ready for ResNet-50, and for any other pre-trained model in Keras, requires some additional processing.  First, the RGB image is converted to BGR by reordering the channels.  All pre-trained models have the additional normalization step that the mean pixel (expressed in RGB as $[103.939, 116.779, 123.68]$ and calculated from all pixels in all images in ImageNet) must be subtracted from every pixel in each image.  This is implemented in the imported function `preprocess_input`.  If you're curious, you can check the code for `preprocess_input` [here](https://github.com/fchollet/keras/blob/master/keras/applications/imagenet_utils.py).\n",
    "\n",
    "Now that we have a way to format our image for supplying to ResNet-50, we are now ready to use the model to extract the predictions.  This is accomplished with the `predict` method, which returns an array whose $i$-th entry is the model's predicted probability that the image belongs to the $i$-th ImageNet category.  This is implemented in the `ResNet50_predict_labels` function below.\n",
    "\n",
    "By taking the argmax of the predicted probability vector, we obtain an integer corresponding to the model's predicted object class, which we can identify with an object category through the use of this [dictionary](https://gist.github.com/yrevar/942d3a0ac09ec9e5eb3a). "
   ]
  },
  {
   "cell_type": "code",
   "execution_count": 9,
   "metadata": {
    "collapsed": true
   },
   "outputs": [],
   "source": [
    "from keras.applications.resnet50 import preprocess_input, decode_predictions\n",
    "\n",
    "def ResNet50_predict_labels(img_path):\n",
    "    # returns prediction vector for image located at img_path\n",
    "    img = preprocess_input(path_to_tensor(img_path))\n",
    "    return np.argmax(ResNet50_model.predict(img))"
   ]
  },
  {
   "cell_type": "markdown",
   "metadata": {},
   "source": [
    "### Write a Dog Detector\n",
    "\n",
    "While looking at the [dictionary](https://gist.github.com/yrevar/942d3a0ac09ec9e5eb3a), you will notice that the categories corresponding to dogs appear in an uninterrupted sequence and correspond to dictionary keys 151-268, inclusive, to include all categories from `'Chihuahua'` to `'Mexican hairless'`.  Thus, in order to check to see if an image is predicted to contain a dog by the pre-trained ResNet-50 model, we need only check if the `ResNet50_predict_labels` function above returns a value between 151 and 268 (inclusive).\n",
    "\n",
    "We use these ideas to complete the `dog_detector` function below, which returns `True` if a dog is detected in an image (and `False` if not)."
   ]
  },
  {
   "cell_type": "code",
   "execution_count": 10,
   "metadata": {
    "collapsed": true
   },
   "outputs": [],
   "source": [
    "### returns \"True\" if a dog is detected in the image stored at img_path\n",
    "def dog_detector(img_path):\n",
    "    prediction = ResNet50_predict_labels(img_path)\n",
    "    return ((prediction <= 268) & (prediction >= 151)) "
   ]
  },
  {
   "cell_type": "markdown",
   "metadata": {},
   "source": [
    "### (IMPLEMENTATION) Assess the Dog Detector\n",
    "\n",
    "__Question 3:__ Use the code cell below to test the performance of your `dog_detector` function.  \n",
    "- What percentage of the images in `human_files_short` have a detected dog?  \n",
    "- What percentage of the images in `dog_files_short` have a detected dog?\n",
    "\n",
    "__Answer:__ "
   ]
  },
  {
   "cell_type": "code",
   "execution_count": 130,
   "metadata": {},
   "outputs": [
    {
     "name": "stdout",
     "output_type": "stream",
     "text": [
      "Human/dog percentage found: 4%\n",
      "Dog/dog percentage found: 100%\n"
     ]
    }
   ],
   "source": [
    "### TODO: Test the performance of the dog_detector function\n",
    "### on the images in human_files_short and dog_files_short.\n",
    "humanFound = 0\n",
    "for img in human_files_short:\n",
    "    if (dog_detector(img)): humanFound = humanFound + 1\n",
    "print('Human/dog percentage found: %d%%' % humanFound)\n",
    "\n",
    "dogFound = 0\n",
    "for img in dog_files_short:\n",
    "    if (dog_detector(img)): dogFound = dogFound + 1\n",
    "print('Dog/dog percentage found: %d%%' % dogFound)"
   ]
  },
  {
   "cell_type": "markdown",
   "metadata": {},
   "source": [
    "---\n",
    "<a id='step3'></a>\n",
    "## Step 3: Create a CNN to Classify Dog Breeds (from Scratch)\n",
    "\n",
    "Now that we have functions for detecting humans and dogs in images, we need a way to predict breed from images.  In this step, you will create a CNN that classifies dog breeds.  You must create your CNN _from scratch_ (so, you can't use transfer learning _yet_!), and you must attain a test accuracy of at least 1%.  In Step 5 of this notebook, you will have the opportunity to use transfer learning to create a CNN that attains greatly improved accuracy.\n",
    "\n",
    "Be careful with adding too many trainable layers!  More parameters means longer training, which means you are more likely to need a GPU to accelerate the training process.  Thankfully, Keras provides a handy estimate of the time that each epoch is likely to take; you can extrapolate this estimate to figure out how long it will take for your algorithm to train. \n",
    "\n",
    "We mention that the task of assigning breed to dogs from images is considered exceptionally challenging.  To see why, consider that *even a human* would have great difficulty in distinguishing between a Brittany and a Welsh Springer Spaniel.  \n",
    "\n",
    "Brittany | Welsh Springer Spaniel\n",
    "- | - \n",
    "<img src=\"images/Brittany_02625.jpg\" width=\"100\"> | <img src=\"images/Welsh_springer_spaniel_08203.jpg\" width=\"200\">\n",
    "\n",
    "It is not difficult to find other dog breed pairs with minimal inter-class variation (for instance, Curly-Coated Retrievers and American Water Spaniels).  \n",
    "\n",
    "Curly-Coated Retriever | American Water Spaniel\n",
    "- | -\n",
    "<img src=\"images/Curly-coated_retriever_03896.jpg\" width=\"200\"> | <img src=\"images/American_water_spaniel_00648.jpg\" width=\"200\">\n",
    "\n",
    "\n",
    "Likewise, recall that labradors come in yellow, chocolate, and black.  Your vision-based algorithm will have to conquer this high intra-class variation to determine how to classify all of these different shades as the same breed.  \n",
    "\n",
    "Yellow Labrador | Chocolate Labrador | Black Labrador\n",
    "- | -\n",
    "<img src=\"images/Labrador_retriever_06457.jpg\" width=\"150\"> | <img src=\"images/Labrador_retriever_06455.jpg\" width=\"240\"> | <img src=\"images/Labrador_retriever_06449.jpg\" width=\"220\">\n",
    "\n",
    "We also mention that random chance presents an exceptionally low bar: setting aside the fact that the classes are slightly imabalanced, a random guess will provide a correct answer roughly 1 in 133 times, which corresponds to an accuracy of less than 1%.  \n",
    "\n",
    "Remember that the practice is far ahead of the theory in deep learning.  Experiment with many different architectures, and trust your intuition.  And, of course, have fun! \n",
    "\n",
    "### Pre-process the Data\n",
    "\n",
    "We rescale the images by dividing every pixel in every image by 255."
   ]
  },
  {
   "cell_type": "code",
   "execution_count": 12,
   "metadata": {},
   "outputs": [
    {
     "name": "stderr",
     "output_type": "stream",
     "text": [
      "  0%|          | 24/6680 [00:00<00:28, 235.33it/s]"
     ]
    },
    {
     "name": "stdout",
     "output_type": "stream",
     "text": [
      "Name                   Shape               Bytes            Type\n",
      "=====================================================================\n",
      "\n",
      "train_files            6680                2645280          str3168\n",
      "train_targets          6680 x 133          7107520          float64\n",
      "valid_files            835                 330660           str3168\n",
      "valid_targets          835 x 133           888440           float64\n",
      "test_files             836                 327712           str3136\n",
      "test_targets           836 x 133           889504           float64\n",
      "human_files            13233               4446288          str2688\n",
      "gray                   250 x 250           62500            uint8\n",
      "faces                  1 x 4               16               int32\n",
      "cv_rgb                 250 x 250 x 3       187500           uint8\n",
      "human_files_short      100                 33600            str2688\n",
      "dog_files_short        100                 39600            str3168\n",
      "\n",
      "Upper bound on total bytes  =       16958620\n",
      "List of lists in memory: None\n",
      "Taking list of paths and converting tensors\n"
     ]
    },
    {
     "name": "stderr",
     "output_type": "stream",
     "text": [
      "100%|██████████| 6680/6680 [00:41<00:00, 160.42it/s]\n"
     ]
    },
    {
     "name": "stdout",
     "output_type": "stream",
     "text": [
      "Finished conversions moving to vstack\n"
     ]
    },
    {
     "name": "stderr",
     "output_type": "stream",
     "text": [
      "  0%|          | 3/835 [00:00<00:30, 27.47it/s]"
     ]
    },
    {
     "name": "stdout",
     "output_type": "stream",
     "text": [
      "Name                   Shape                      Bytes            Type\n",
      "============================================================================\n",
      "\n",
      "train_files            6680                       2645280          str3168\n",
      "train_targets          6680 x 133                 7107520          float64\n",
      "valid_files            835                        330660           str3168\n",
      "valid_targets          835 x 133                  888440           float64\n",
      "test_files             836                        327712           str3136\n",
      "test_targets           836 x 133                  889504           float64\n",
      "human_files            13233                      4446288          str2688\n",
      "gray                   250 x 250                  62500            uint8\n",
      "faces                  1 x 4                      16               int32\n",
      "cv_rgb                 250 x 250 x 3              187500           uint8\n",
      "human_files_short      100                        33600            str2688\n",
      "dog_files_short        100                        39600            str3168\n",
      "train_tensors          6680 x 224 x 224 x 3       4022108160       float32\n",
      "\n",
      "Upper bound on total bytes  =       4039066780\n",
      "List of lists in memory: None\n",
      "Taking list of paths and converting tensors\n"
     ]
    },
    {
     "name": "stderr",
     "output_type": "stream",
     "text": [
      "100%|██████████| 835/835 [00:04<00:00, 180.53it/s]\n"
     ]
    },
    {
     "name": "stdout",
     "output_type": "stream",
     "text": [
      "Finished conversions moving to vstack\n"
     ]
    },
    {
     "name": "stderr",
     "output_type": "stream",
     "text": [
      "  3%|▎         | 28/836 [00:00<00:02, 275.51it/s]"
     ]
    },
    {
     "name": "stdout",
     "output_type": "stream",
     "text": [
      "Name                   Shape                      Bytes            Type\n",
      "============================================================================\n",
      "\n",
      "train_files            6680                       2645280          str3168\n",
      "train_targets          6680 x 133                 7107520          float64\n",
      "valid_files            835                        330660           str3168\n",
      "valid_targets          835 x 133                  888440           float64\n",
      "test_files             836                        327712           str3136\n",
      "test_targets           836 x 133                  889504           float64\n",
      "human_files            13233                      4446288          str2688\n",
      "gray                   250 x 250                  62500            uint8\n",
      "faces                  1 x 4                      16               int32\n",
      "cv_rgb                 250 x 250 x 3              187500           uint8\n",
      "human_files_short      100                        33600            str2688\n",
      "dog_files_short        100                        39600            str3168\n",
      "train_tensors          6680 x 224 x 224 x 3       4022108160       float32\n",
      "valid_tensors          835 x 224 x 224 x 3        502763520        float32\n",
      "\n",
      "Upper bound on total bytes  =       4541830300\n",
      "List of lists in memory: None\n",
      "Taking list of paths and converting tensors\n"
     ]
    },
    {
     "name": "stderr",
     "output_type": "stream",
     "text": [
      "100%|██████████| 836/836 [00:04<00:00, 178.93it/s]\n"
     ]
    },
    {
     "name": "stdout",
     "output_type": "stream",
     "text": [
      "Finished conversions moving to vstack\n"
     ]
    }
   ],
   "source": [
    "from PIL import ImageFile                            \n",
    "ImageFile.LOAD_TRUNCATED_IMAGES = True                 \n",
    "\n",
    "# pre-process the data for Keras\n",
    "train_tensors = paths_to_tensor(train_files).astype('float32')/255.0\n",
    "valid_tensors = paths_to_tensor(valid_files).astype('float32')/255.0\n",
    "test_tensors = paths_to_tensor(test_files).astype('float32')/255.0"
   ]
  },
  {
   "cell_type": "markdown",
   "metadata": {},
   "source": [
    "### (IMPLEMENTATION) Model Architecture\n",
    "\n",
    "Create a CNN to classify dog breed.  At the end of your code cell block, summarize the layers of your model by executing the line:\n",
    "    \n",
    "        model.summary()\n",
    "\n",
    "We have imported some Python modules to get you started, but feel free to import as many modules as you need.  If you end up getting stuck, here's a hint that specifies a model that trains relatively fast on CPU and attains >1% test accuracy in 5 epochs:\n",
    "\n",
    "![Sample CNN](images/sample_cnn.png)\n",
    "           \n",
    "__Question 4:__ Outline the steps you took to get to your final CNN architecture and your reasoning at each step.  If you chose to use the hinted architecture above, describe why you think that CNN architecture should work well for the image classification task.\n",
    "\n",
    "__Answer:__ I wound up doing something similar to the provided solution, though unintentionally. My thinking was to start by looking at the entire image first, using a medium-sized set of filters, thinking of it as \"lines of thought\" or \"ways to consider\". Then pooling to generalize the \"assumptions\" made at that step. For the second step I tried to consider how I might think when perceiving dogs like this, and decided that the next round of considerations would be more details lines of thought based on the previous assumptions, pooling further to generalize the resulting assumptions further. I then added a Dropout to avoid overfitting (having the assumptions to this point be too rigid in their effects on each other). Then for each of the last two rounds I thought the number of filters would be smaller, as there would be tighter, more specific considerations at each step to reach a final determination. Then the GlobalAveragePooling2D would be how the assumptions coallesced to feed the Dense layer and make a final determination."
   ]
  },
  {
   "cell_type": "code",
   "execution_count": 24,
   "metadata": {},
   "outputs": [
    {
     "name": "stdout",
     "output_type": "stream",
     "text": [
      "_________________________________________________________________\n",
      "Layer (type)                 Output Shape              Param #   \n",
      "=================================================================\n",
      "conv2d_12 (Conv2D)           (None, 223, 223, 32)      416       \n",
      "_________________________________________________________________\n",
      "max_pooling2d_13 (MaxPooling (None, 111, 111, 32)      0         \n",
      "_________________________________________________________________\n",
      "conv2d_13 (Conv2D)           (None, 110, 110, 64)      8256      \n",
      "_________________________________________________________________\n",
      "max_pooling2d_14 (MaxPooling (None, 55, 55, 64)        0         \n",
      "_________________________________________________________________\n",
      "dropout_3 (Dropout)          (None, 55, 55, 64)        0         \n",
      "_________________________________________________________________\n",
      "conv2d_14 (Conv2D)           (None, 54, 54, 16)        4112      \n",
      "_________________________________________________________________\n",
      "max_pooling2d_15 (MaxPooling (None, 27, 27, 16)        0         \n",
      "_________________________________________________________________\n",
      "conv2d_15 (Conv2D)           (None, 26, 26, 16)        1040      \n",
      "_________________________________________________________________\n",
      "max_pooling2d_16 (MaxPooling (None, 13, 13, 16)        0         \n",
      "_________________________________________________________________\n",
      "global_average_pooling2d_3 ( (None, 16)                0         \n",
      "_________________________________________________________________\n",
      "dense_2 (Dense)              (None, 133)               2261      \n",
      "=================================================================\n",
      "Total params: 16,085.0\n",
      "Trainable params: 16,085.0\n",
      "Non-trainable params: 0.0\n",
      "_________________________________________________________________\n"
     ]
    }
   ],
   "source": [
    "from keras.layers import Conv2D, MaxPooling2D, GlobalAveragePooling2D\n",
    "from keras.layers import Dropout, Flatten, Dense\n",
    "from keras.models import Sequential\n",
    "\n",
    "model = Sequential()\n",
    "model.add(Conv2D(filters=32, kernel_size=2, activation='relu', input_shape=(224, 224, 3)))\n",
    "model.add(MaxPooling2D(pool_size=2, strides=2, input_shape=(224, 224, 32)))\n",
    "model.add(Conv2D(filters=64, kernel_size=2, activation='relu', input_shape=(112, 112, 16)))\n",
    "model.add(MaxPooling2D(pool_size=2, strides=2, input_shape=(112, 112, 64)))\n",
    "model.add(Dropout(0.2, input_shape=(112, 112, 64)))\n",
    "model.add(Conv2D(filters=16, kernel_size=2, activation='relu', input_shape=(112, 112, 64)))\n",
    "model.add(MaxPooling2D(pool_size=2, strides=2, input_shape=(112, 112, 16)))\n",
    "model.add(Conv2D(filters=16, kernel_size=2, activation='relu', input_shape=(64, 64, 16)))\n",
    "model.add(MaxPooling2D(pool_size=2, strides=2, input_shape=(112, 112, 16)))\n",
    "model.add(GlobalAveragePooling2D())\n",
    "model.add(Dense(133, activation='relu'))\n",
    "\n",
    "### TODO: Define your architecture.\n",
    "\n",
    "model.summary()"
   ]
  },
  {
   "cell_type": "markdown",
   "metadata": {},
   "source": [
    "### Compile the Model"
   ]
  },
  {
   "cell_type": "code",
   "execution_count": 25,
   "metadata": {},
   "outputs": [],
   "source": [
    "model.compile(optimizer='rmsprop', loss='categorical_crossentropy', metrics=['accuracy'])"
   ]
  },
  {
   "cell_type": "markdown",
   "metadata": {},
   "source": [
    "### (IMPLEMENTATION) Train the Model\n",
    "\n",
    "Train your model in the code cell below.  Use model checkpointing to save the model that attains the best validation loss.\n",
    "\n",
    "You are welcome to [augment the training data](https://blog.keras.io/building-powerful-image-classification-models-using-very-little-data.html), but this is not a requirement. "
   ]
  },
  {
   "cell_type": "code",
   "execution_count": 26,
   "metadata": {},
   "outputs": [
    {
     "name": "stdout",
     "output_type": "stream",
     "text": [
      "Train on 6680 samples, validate on 835 samples\n",
      "Epoch 1/10\n",
      "6660/6680 [============================>.] - ETA: 0s - loss: 10.3166 - acc: 0.0092Epoch 00000: val_loss improved from inf to 10.13640, saving model to saved_models/weights.best.from_scratch.hdf5\n",
      "6680/6680 [==============================] - 13s - loss: 10.3201 - acc: 0.0091 - val_loss: 10.1364 - val_acc: 0.0108\n",
      "Epoch 2/10\n",
      "6660/6680 [============================>.] - ETA: 0s - loss: 10.1809 - acc: 0.0099Epoch 00001: val_loss did not improve\n",
      "6680/6680 [==============================] - 13s - loss: 10.1754 - acc: 0.0099 - val_loss: 10.2653 - val_acc: 0.0096\n",
      "Epoch 3/10\n",
      "6660/6680 [============================>.] - ETA: 0s - loss: 10.2667 - acc: 0.0104Epoch 00002: val_loss did not improve\n",
      "6680/6680 [==============================] - 13s - loss: 10.2679 - acc: 0.0103 - val_loss: 10.5839 - val_acc: 0.0084\n",
      "Epoch 4/10\n",
      "6660/6680 [============================>.] - ETA: 0s - loss: 13.0342 - acc: 0.0078Epoch 00003: val_loss did not improve\n",
      "6680/6680 [==============================] - 13s - loss: 13.0414 - acc: 0.0078 - val_loss: 15.0040 - val_acc: 0.0096\n",
      "Epoch 5/10\n",
      "6660/6680 [============================>.] - ETA: 0s - loss: 15.4704 - acc: 0.0101Epoch 00004: val_loss did not improve\n",
      "6680/6680 [==============================] - 13s - loss: 15.4723 - acc: 0.0100 - val_loss: 15.8233 - val_acc: 0.0096\n",
      "Epoch 6/10\n",
      "6660/6680 [============================>.] - ETA: 0s - loss: 15.9543 - acc: 0.0098Epoch 00005: val_loss did not improve\n",
      "6680/6680 [==============================] - 13s - loss: 15.9548 - acc: 0.0097 - val_loss: 15.9637 - val_acc: 0.0096\n",
      "Epoch 7/10\n",
      "6660/6680 [============================>.] - ETA: 0s - loss: 15.9584 - acc: 0.0099Epoch 00006: val_loss did not improve\n",
      "6680/6680 [==============================] - 13s - loss: 15.9588 - acc: 0.0099 - val_loss: 15.9637 - val_acc: 0.0096\n",
      "Epoch 8/10\n",
      "6660/6680 [============================>.] - ETA: 0s - loss: 15.9584 - acc: 0.0099Epoch 00007: val_loss did not improve\n",
      "6680/6680 [==============================] - 13s - loss: 15.9588 - acc: 0.0099 - val_loss: 15.9637 - val_acc: 0.0096\n",
      "Epoch 9/10\n",
      "6660/6680 [============================>.] - ETA: 0s - loss: 15.9584 - acc: 0.0099Epoch 00008: val_loss did not improve\n",
      "6680/6680 [==============================] - 13s - loss: 15.9588 - acc: 0.0099 - val_loss: 15.9637 - val_acc: 0.0096\n",
      "Epoch 10/10\n",
      "6660/6680 [============================>.] - ETA: 0s - loss: 15.9584 - acc: 0.0099Epoch 00009: val_loss did not improve\n",
      "6680/6680 [==============================] - 13s - loss: 15.9588 - acc: 0.0099 - val_loss: 15.9637 - val_acc: 0.0096\n"
     ]
    },
    {
     "data": {
      "text/plain": [
       "<keras.callbacks.History at 0x7fb14ed31f98>"
      ]
     },
     "execution_count": 26,
     "metadata": {},
     "output_type": "execute_result"
    }
   ],
   "source": [
    "from keras.callbacks import ModelCheckpoint  \n",
    "\n",
    "### TODO: specify the number of epochs that you would like to use to train the model.\n",
    "\n",
    "epochs = 10\n",
    "\n",
    "### Do NOT modify the code below this line.\n",
    "\n",
    "checkpointer = ModelCheckpoint(filepath='saved_models/weights.best.from_scratch.hdf5', \n",
    "                               verbose=1, save_best_only=True)\n",
    "\n",
    "model.fit(train_tensors, train_targets, \n",
    "          validation_data=(valid_tensors, valid_targets),\n",
    "          epochs=epochs, batch_size=20, callbacks=[checkpointer], verbose=1)"
   ]
  },
  {
   "cell_type": "markdown",
   "metadata": {},
   "source": [
    "### Load the Model with the Best Validation Loss"
   ]
  },
  {
   "cell_type": "code",
   "execution_count": 27,
   "metadata": {
    "collapsed": true
   },
   "outputs": [],
   "source": [
    "model.load_weights('saved_models/weights.best.from_scratch.hdf5')"
   ]
  },
  {
   "cell_type": "markdown",
   "metadata": {},
   "source": [
    "### Test the Model\n",
    "\n",
    "Try out your model on the test dataset of dog images.  Ensure that your test accuracy is greater than 1%."
   ]
  },
  {
   "cell_type": "code",
   "execution_count": 28,
   "metadata": {},
   "outputs": [
    {
     "name": "stdout",
     "output_type": "stream",
     "text": [
      "Test accuracy: 1.0766%\n"
     ]
    }
   ],
   "source": [
    "# get index of predicted dog breed for each image in test set\n",
    "dog_breed_predictions = [np.argmax(model.predict(np.expand_dims(tensor, axis=0))) for tensor in test_tensors]\n",
    "\n",
    "# report test accuracy\n",
    "test_accuracy = 100*np.sum(np.array(dog_breed_predictions)==np.argmax(test_targets, axis=1))/len(dog_breed_predictions)\n",
    "print('Test accuracy: %.4f%%' % test_accuracy)"
   ]
  },
  {
   "cell_type": "markdown",
   "metadata": {},
   "source": [
    "---\n",
    "<a id='step4'></a>\n",
    "## Step 4: Use a CNN to Classify Dog Breeds\n",
    "\n",
    "To reduce training time without sacrificing accuracy, we show you how to train a CNN using transfer learning.  In the following step, you will get a chance to use transfer learning to train your own CNN.\n",
    "\n",
    "### Obtain Bottleneck Features"
   ]
  },
  {
   "cell_type": "code",
   "execution_count": 30,
   "metadata": {},
   "outputs": [],
   "source": [
    "bottleneck_features = np.load('bottleneck_features/DogVGG16Data.npz')\n",
    "train_VGG16 = bottleneck_features['train']\n",
    "valid_VGG16 = bottleneck_features['valid']\n",
    "test_VGG16 = bottleneck_features['test']"
   ]
  },
  {
   "cell_type": "markdown",
   "metadata": {},
   "source": [
    "### Model Architecture\n",
    "\n",
    "The model uses the the pre-trained VGG-16 model as a fixed feature extractor, where the last convolutional output of VGG-16 is fed as input to our model.  We only add a global average pooling layer and a fully connected layer, where the latter contains one node for each dog category and is equipped with a softmax."
   ]
  },
  {
   "cell_type": "code",
   "execution_count": 31,
   "metadata": {},
   "outputs": [
    {
     "name": "stdout",
     "output_type": "stream",
     "text": [
      "_________________________________________________________________\n",
      "Layer (type)                 Output Shape              Param #   \n",
      "=================================================================\n",
      "global_average_pooling2d_4 ( (None, 512)               0         \n",
      "_________________________________________________________________\n",
      "dense_3 (Dense)              (None, 133)               68229     \n",
      "=================================================================\n",
      "Total params: 68,229.0\n",
      "Trainable params: 68,229.0\n",
      "Non-trainable params: 0.0\n",
      "_________________________________________________________________\n"
     ]
    }
   ],
   "source": [
    "VGG16_model = Sequential()\n",
    "VGG16_model.add(GlobalAveragePooling2D(input_shape=train_VGG16.shape[1:]))\n",
    "VGG16_model.add(Dense(133, activation='softmax'))\n",
    "\n",
    "VGG16_model.summary()"
   ]
  },
  {
   "cell_type": "markdown",
   "metadata": {},
   "source": [
    "### Compile the Model"
   ]
  },
  {
   "cell_type": "code",
   "execution_count": 32,
   "metadata": {
    "collapsed": true
   },
   "outputs": [],
   "source": [
    "VGG16_model.compile(loss='categorical_crossentropy', optimizer='rmsprop', metrics=['accuracy'])"
   ]
  },
  {
   "cell_type": "markdown",
   "metadata": {},
   "source": [
    "### Train the Model"
   ]
  },
  {
   "cell_type": "code",
   "execution_count": 33,
   "metadata": {},
   "outputs": [
    {
     "name": "stdout",
     "output_type": "stream",
     "text": [
      "Train on 6680 samples, validate on 835 samples\n",
      "Epoch 1/20\n",
      "6540/6680 [============================>.] - ETA: 0s - loss: 12.2299 - acc: 0.1211Epoch 00000: val_loss improved from inf to 10.77829, saving model to saved_models/weights.best.VGG16.hdf5\n",
      "6680/6680 [==============================] - 2s - loss: 12.2358 - acc: 0.1220 - val_loss: 10.7783 - val_acc: 0.2036\n",
      "Epoch 2/20\n",
      "6480/6680 [============================>.] - ETA: 0s - loss: 10.1365 - acc: 0.2776Epoch 00001: val_loss improved from 10.77829 to 10.20709, saving model to saved_models/weights.best.VGG16.hdf5\n",
      "6680/6680 [==============================] - 1s - loss: 10.1185 - acc: 0.2784 - val_loss: 10.2071 - val_acc: 0.2707\n",
      "Epoch 3/20\n",
      "6620/6680 [============================>.] - ETA: 0s - loss: 9.6035 - acc: 0.3388Epoch 00002: val_loss improved from 10.20709 to 9.80782, saving model to saved_models/weights.best.VGG16.hdf5\n",
      "6680/6680 [==============================] - 1s - loss: 9.6161 - acc: 0.3382 - val_loss: 9.8078 - val_acc: 0.3102\n",
      "Epoch 4/20\n",
      "6580/6680 [============================>.] - ETA: 0s - loss: 9.1772 - acc: 0.3728Epoch 00003: val_loss improved from 9.80782 to 9.51418, saving model to saved_models/weights.best.VGG16.hdf5\n",
      "6680/6680 [==============================] - 1s - loss: 9.1798 - acc: 0.3732 - val_loss: 9.5142 - val_acc: 0.3305\n",
      "Epoch 5/20\n",
      "6580/6680 [============================>.] - ETA: 0s - loss: 8.9020 - acc: 0.4090Epoch 00004: val_loss improved from 9.51418 to 9.48337, saving model to saved_models/weights.best.VGG16.hdf5\n",
      "6680/6680 [==============================] - 1s - loss: 8.9235 - acc: 0.4076 - val_loss: 9.4834 - val_acc: 0.3293\n",
      "Epoch 6/20\n",
      "6640/6680 [============================>.] - ETA: 0s - loss: 8.7654 - acc: 0.4255Epoch 00005: val_loss improved from 9.48337 to 9.31946, saving model to saved_models/weights.best.VGG16.hdf5\n",
      "6680/6680 [==============================] - 1s - loss: 8.7764 - acc: 0.4249 - val_loss: 9.3195 - val_acc: 0.3521\n",
      "Epoch 7/20\n",
      "6560/6680 [============================>.] - ETA: 0s - loss: 8.6345 - acc: 0.4389Epoch 00006: val_loss improved from 9.31946 to 9.20207, saving model to saved_models/weights.best.VGG16.hdf5\n",
      "6680/6680 [==============================] - 1s - loss: 8.6310 - acc: 0.4392 - val_loss: 9.2021 - val_acc: 0.3569\n",
      "Epoch 8/20\n",
      "6660/6680 [============================>.] - ETA: 0s - loss: 8.5308 - acc: 0.4495Epoch 00007: val_loss did not improve\n",
      "6680/6680 [==============================] - 1s - loss: 8.5318 - acc: 0.4496 - val_loss: 9.2346 - val_acc: 0.3413\n",
      "Epoch 9/20\n",
      "6560/6680 [============================>.] - ETA: 0s - loss: 8.4337 - acc: 0.4573Epoch 00008: val_loss improved from 9.20207 to 9.17371, saving model to saved_models/weights.best.VGG16.hdf5\n",
      "6680/6680 [==============================] - 1s - loss: 8.4439 - acc: 0.4569 - val_loss: 9.1737 - val_acc: 0.3629\n",
      "Epoch 10/20\n",
      "6560/6680 [============================>.] - ETA: 0s - loss: 8.3606 - acc: 0.4678Epoch 00009: val_loss improved from 9.17371 to 9.10035, saving model to saved_models/weights.best.VGG16.hdf5\n",
      "6680/6680 [==============================] - 1s - loss: 8.3704 - acc: 0.4671 - val_loss: 9.1004 - val_acc: 0.3820\n",
      "Epoch 11/20\n",
      "6660/6680 [============================>.] - ETA: 0s - loss: 8.2776 - acc: 0.4722Epoch 00010: val_loss improved from 9.10035 to 8.99509, saving model to saved_models/weights.best.VGG16.hdf5\n",
      "6680/6680 [==============================] - 1s - loss: 8.2914 - acc: 0.4714 - val_loss: 8.9951 - val_acc: 0.3749\n",
      "Epoch 12/20\n",
      "6660/6680 [============================>.] - ETA: 0s - loss: 8.2177 - acc: 0.4799Epoch 00011: val_loss improved from 8.99509 to 8.93974, saving model to saved_models/weights.best.VGG16.hdf5\n",
      "6680/6680 [==============================] - 1s - loss: 8.2244 - acc: 0.4795 - val_loss: 8.9397 - val_acc: 0.3737\n",
      "Epoch 13/20\n",
      "6480/6680 [============================>.] - ETA: 0s - loss: 8.1822 - acc: 0.4823Epoch 00012: val_loss improved from 8.93974 to 8.89928, saving model to saved_models/weights.best.VGG16.hdf5\n",
      "6680/6680 [==============================] - 1s - loss: 8.1791 - acc: 0.4825 - val_loss: 8.8993 - val_acc: 0.3725\n",
      "Epoch 14/20\n",
      "6560/6680 [============================>.] - ETA: 0s - loss: 7.9752 - acc: 0.4883Epoch 00013: val_loss improved from 8.89928 to 8.66817, saving model to saved_models/weights.best.VGG16.hdf5\n",
      "6680/6680 [==============================] - 1s - loss: 7.9641 - acc: 0.4888 - val_loss: 8.6682 - val_acc: 0.3988\n",
      "Epoch 15/20\n",
      "6460/6680 [============================>.] - ETA: 0s - loss: 7.8897 - acc: 0.5017Epoch 00014: val_loss did not improve\n",
      "6680/6680 [==============================] - 1s - loss: 7.8648 - acc: 0.5033 - val_loss: 8.6745 - val_acc: 0.3928\n",
      "Epoch 16/20\n",
      "6480/6680 [============================>.] - ETA: 0s - loss: 7.8357 - acc: 0.5082Epoch 00015: val_loss improved from 8.66817 to 8.62936, saving model to saved_models/weights.best.VGG16.hdf5\n",
      "6680/6680 [==============================] - 1s - loss: 7.8345 - acc: 0.5082 - val_loss: 8.6294 - val_acc: 0.4000\n",
      "Epoch 17/20\n",
      "6560/6680 [============================>.] - ETA: 0s - loss: 7.8192 - acc: 0.5105Epoch 00016: val_loss did not improve\n",
      "6680/6680 [==============================] - 1s - loss: 7.8211 - acc: 0.5105 - val_loss: 8.6337 - val_acc: 0.4084\n",
      "Epoch 18/20\n",
      "6560/6680 [============================>.] - ETA: 0s - loss: 7.8106 - acc: 0.5128Epoch 00017: val_loss did not improve\n",
      "6680/6680 [==============================] - 1s - loss: 7.8110 - acc: 0.5127 - val_loss: 8.6390 - val_acc: 0.4036\n",
      "Epoch 19/20\n",
      "6500/6680 [============================>.] - ETA: 0s - loss: 7.6725 - acc: 0.5145Epoch 00018: val_loss improved from 8.62936 to 8.50257, saving model to saved_models/weights.best.VGG16.hdf5\n",
      "6680/6680 [==============================] - 1s - loss: 7.6518 - acc: 0.5157 - val_loss: 8.5026 - val_acc: 0.4036\n",
      "Epoch 20/20\n",
      "6440/6680 [===========================>..] - ETA: 0s - loss: 7.4685 - acc: 0.5309Epoch 00019: val_loss improved from 8.50257 to 8.40222, saving model to saved_models/weights.best.VGG16.hdf5\n",
      "6680/6680 [==============================] - 1s - loss: 7.4708 - acc: 0.5307 - val_loss: 8.4022 - val_acc: 0.4120\n"
     ]
    },
    {
     "data": {
      "text/plain": [
       "<keras.callbacks.History at 0x7fb14e893c50>"
      ]
     },
     "execution_count": 33,
     "metadata": {},
     "output_type": "execute_result"
    }
   ],
   "source": [
    "checkpointer = ModelCheckpoint(filepath='saved_models/weights.best.VGG16.hdf5', \n",
    "                               verbose=1, save_best_only=True)\n",
    "\n",
    "VGG16_model.fit(train_VGG16, train_targets, \n",
    "          validation_data=(valid_VGG16, valid_targets),\n",
    "          epochs=20, batch_size=20, callbacks=[checkpointer], verbose=1)"
   ]
  },
  {
   "cell_type": "markdown",
   "metadata": {},
   "source": [
    "### Load the Model with the Best Validation Loss"
   ]
  },
  {
   "cell_type": "code",
   "execution_count": 34,
   "metadata": {
    "collapsed": true
   },
   "outputs": [],
   "source": [
    "VGG16_model.load_weights('saved_models/weights.best.VGG16.hdf5')"
   ]
  },
  {
   "cell_type": "markdown",
   "metadata": {},
   "source": [
    "### Test the Model\n",
    "\n",
    "Now, we can use the CNN to test how well it identifies breed within our test dataset of dog images.  We print the test accuracy below."
   ]
  },
  {
   "cell_type": "code",
   "execution_count": 35,
   "metadata": {},
   "outputs": [
    {
     "name": "stdout",
     "output_type": "stream",
     "text": [
      "Test accuracy: 43.0622%\n"
     ]
    }
   ],
   "source": [
    "# get index of predicted dog breed for each image in test set\n",
    "VGG16_predictions = [np.argmax(VGG16_model.predict(np.expand_dims(feature, axis=0))) for feature in test_VGG16]\n",
    "\n",
    "# report test accuracy\n",
    "test_accuracy = 100*np.sum(np.array(VGG16_predictions)==np.argmax(test_targets, axis=1))/len(VGG16_predictions)\n",
    "print('Test accuracy: %.4f%%' % test_accuracy)"
   ]
  },
  {
   "cell_type": "markdown",
   "metadata": {},
   "source": [
    "### Predict Dog Breed with the Model"
   ]
  },
  {
   "cell_type": "code",
   "execution_count": 36,
   "metadata": {
    "collapsed": true
   },
   "outputs": [],
   "source": [
    "from extract_bottleneck_features import *\n",
    "\n",
    "def VGG16_predict_breed(img_path):\n",
    "    # extract bottleneck features\n",
    "    bottleneck_feature = extract_VGG16(path_to_tensor(img_path))\n",
    "    # obtain predicted vector\n",
    "    predicted_vector = VGG16_model.predict(bottleneck_feature)\n",
    "    # return dog breed that is predicted by the model\n",
    "    return dog_names[np.argmax(predicted_vector)]"
   ]
  },
  {
   "cell_type": "markdown",
   "metadata": {},
   "source": [
    "---\n",
    "<a id='step5'></a>\n",
    "## Step 5: Create a CNN to Classify Dog Breeds (using Transfer Learning)\n",
    "\n",
    "You will now use transfer learning to create a CNN that can identify dog breed from images.  Your CNN must attain at least 60% accuracy on the test set.\n",
    "\n",
    "In Step 4, we used transfer learning to create a CNN using VGG-16 bottleneck features.  In this section, you must use the bottleneck features from a different pre-trained model.  To make things easier for you, we have pre-computed the features for all of the networks that are currently available in Keras:\n",
    "- [VGG-19](https://s3-us-west-1.amazonaws.com/udacity-aind/dog-project/DogVGG19Data.npz) bottleneck features\n",
    "- [ResNet-50](https://s3-us-west-1.amazonaws.com/udacity-aind/dog-project/DogResnet50Data.npz) bottleneck features\n",
    "- [Inception](https://s3-us-west-1.amazonaws.com/udacity-aind/dog-project/DogInceptionV3Data.npz) bottleneck features\n",
    "- [Xception](https://s3-us-west-1.amazonaws.com/udacity-aind/dog-project/DogXceptionData.npz) bottleneck features\n",
    "\n",
    "The files are encoded as such:\n",
    "\n",
    "    Dog{network}Data.npz\n",
    "    \n",
    "where `{network}`, in the above filename, can be one of `VGG19`, `Resnet50`, `InceptionV3`, or `Xception`.  Pick one of the above architectures, download the corresponding bottleneck features, and store the downloaded file in the `bottleneck_features/` folder in the repository.\n",
    "\n",
    "### (IMPLEMENTATION) Obtain Bottleneck Features\n",
    "\n",
    "In the code block below, extract the bottleneck features corresponding to the train, test, and validation sets by running the following:\n",
    "\n",
    "    bottleneck_features = np.load('bottleneck_features/Dog{network}Data.npz')\n",
    "    train_{network} = bottleneck_features['train']\n",
    "    valid_{network} = bottleneck_features['valid']\n",
    "    test_{network} = bottleneck_features['test']"
   ]
  },
  {
   "cell_type": "code",
   "execution_count": 44,
   "metadata": {
    "collapsed": true
   },
   "outputs": [],
   "source": [
    "### TODO: Obtain bottleneck features from another pre-trained CNN.\n",
    "bottleneck_features = np.load('bottleneck_features/DogResnet50Data.npz')\n",
    "train_Resnet50 = bottleneck_features['train']\n",
    "valid_Resnet50 = bottleneck_features['valid']\n",
    "test_Resnet50 = bottleneck_features['test']"
   ]
  },
  {
   "cell_type": "markdown",
   "metadata": {},
   "source": [
    "### (IMPLEMENTATION) Model Architecture\n",
    "\n",
    "Create a CNN to classify dog breed.  At the end of your code cell block, summarize the layers of your model by executing the line:\n",
    "    \n",
    "        <your model's name>.summary()\n",
    "   \n",
    "__Question 5:__ Outline the steps you took to get to your final CNN architecture and your reasoning at each step.  Describe why you think the architecture is suitable for the current problem.\n",
    "\n",
    "__Answer:__ I adapted the model I had created earlier and applied the transfer learning to it. With the greater insight from the Resnet model, it seemed that the benefits from the categorization already in place would provide a solid foundation for my previous model to expand on when looking specifically at classifying breeds. That initial combination appeared to be working in the right direction, but had some over-fitting. So I worked with changing some of the shapes and experimenting with where would be best to do a Dropout to improve the results while avoiding the problem with over-fitting. This led to a final result of 67%, which could likely be improved further by augmenting the data.\n",
    "\n"
   ]
  },
  {
   "cell_type": "code",
   "execution_count": 111,
   "metadata": {},
   "outputs": [
    {
     "name": "stdout",
     "output_type": "stream",
     "text": [
      "_________________________________________________________________\n",
      "Layer (type)                 Output Shape              Param #   \n",
      "=================================================================\n",
      "max_pooling2d_121 (MaxPoolin (None, 1, 1, 2048)        0         \n",
      "_________________________________________________________________\n",
      "conv2d_100 (Conv2D)          (None, 1, 1, 16)          32784     \n",
      "_________________________________________________________________\n",
      "max_pooling2d_122 (MaxPoolin (None, 1, 1, 16)          0         \n",
      "_________________________________________________________________\n",
      "conv2d_101 (Conv2D)          (None, 1, 1, 32)          544       \n",
      "_________________________________________________________________\n",
      "max_pooling2d_123 (MaxPoolin (None, 1, 1, 32)          0         \n",
      "_________________________________________________________________\n",
      "conv2d_102 (Conv2D)          (None, 1, 1, 64)          2112      \n",
      "_________________________________________________________________\n",
      "max_pooling2d_124 (MaxPoolin (None, 1, 1, 64)          0         \n",
      "_________________________________________________________________\n",
      "dropout_30 (Dropout)         (None, 1, 1, 64)          0         \n",
      "_________________________________________________________________\n",
      "conv2d_103 (Conv2D)          (None, 1, 1, 128)         8320      \n",
      "_________________________________________________________________\n",
      "max_pooling2d_125 (MaxPoolin (None, 1, 1, 128)         0         \n",
      "_________________________________________________________________\n",
      "global_average_pooling2d_24  (None, 128)               0         \n",
      "_________________________________________________________________\n",
      "dense_24 (Dense)             (None, 133)               17157     \n",
      "=================================================================\n",
      "Total params: 60,917.0\n",
      "Trainable params: 60,917.0\n",
      "Non-trainable params: 0.0\n",
      "_________________________________________________________________\n"
     ]
    }
   ],
   "source": [
    "### TODO: Define your architecture.\n",
    "\n",
    "resnet_model = Sequential()\n",
    "resnet_model.add(MaxPooling2D(pool_size=1, strides=1, input_shape=(1, 1, 2048)))\n",
    "resnet_model.add(Conv2D(filters=16, kernel_size=1, activation='relu', input_shape=(224, 224, 16)))\n",
    "resnet_model.add(MaxPooling2D(pool_size=1, strides=1, input_shape=(224, 224, 16)))\n",
    "resnet_model.add(Conv2D(filters=32, kernel_size=1, activation='relu', input_shape=(224, 224, 16)))\n",
    "resnet_model.add(MaxPooling2D(pool_size=1, strides=2, input_shape=(224, 224, 32)))\n",
    "resnet_model.add(Conv2D(filters=64, kernel_size=1, activation='relu', input_shape=(112, 112, 32)))\n",
    "resnet_model.add(MaxPooling2D(pool_size=1, strides=1, input_shape=(112, 112, 64)))\n",
    "resnet_model.add(Dropout(0.2, input_shape=(112, 112, 64)))\n",
    "resnet_model.add(Conv2D(filters=128, kernel_size=1, activation='relu', input_shape=(112, 112, 64)))\n",
    "resnet_model.add(MaxPooling2D(pool_size=1, strides=1, input_shape=(112, 112, 128)))\n",
    "resnet_model.add(GlobalAveragePooling2D())\n",
    "resnet_model.add(Dense(133, activation='softmax'))\n",
    "\n",
    "resnet_model.summary()"
   ]
  },
  {
   "cell_type": "markdown",
   "metadata": {},
   "source": [
    "### (IMPLEMENTATION) Compile the Model"
   ]
  },
  {
   "cell_type": "code",
   "execution_count": 112,
   "metadata": {},
   "outputs": [],
   "source": [
    "resnet_model.compile(loss='categorical_crossentropy', optimizer='rmsprop', metrics=['accuracy'])\n"
   ]
  },
  {
   "cell_type": "markdown",
   "metadata": {},
   "source": [
    "### (IMPLEMENTATION) Train the Model\n",
    "\n",
    "Train your model in the code cell below.  Use model checkpointing to save the model that attains the best validation loss.  \n",
    "\n",
    "You are welcome to [augment the training data](https://blog.keras.io/building-powerful-image-classification-models-using-very-little-data.html), but this is not a requirement. "
   ]
  },
  {
   "cell_type": "code",
   "execution_count": 114,
   "metadata": {},
   "outputs": [
    {
     "name": "stdout",
     "output_type": "stream",
     "text": [
      "Train on 6680 samples, validate on 835 samples\n",
      "Epoch 1/25\n",
      "6640/6680 [============================>.] - ETA: 0s - loss: 0.6859 - acc: 0.7718Epoch 00000: val_loss improved from inf to 1.10193, saving model to saved_models/weights.best.from_transfer.hdf5\n",
      "6680/6680 [==============================] - 2s - loss: 0.6850 - acc: 0.7720 - val_loss: 1.1019 - val_acc: 0.7006\n",
      "Epoch 2/25\n",
      "6620/6680 [============================>.] - ETA: 0s - loss: 0.6509 - acc: 0.7831Epoch 00001: val_loss did not improve\n",
      "6680/6680 [==============================] - 2s - loss: 0.6509 - acc: 0.7823 - val_loss: 1.1805 - val_acc: 0.6838\n",
      "Epoch 3/25\n",
      "6640/6680 [============================>.] - ETA: 0s - loss: 0.6345 - acc: 0.7899Epoch 00002: val_loss did not improve\n",
      "6680/6680 [==============================] - 2s - loss: 0.6375 - acc: 0.7894 - val_loss: 1.1169 - val_acc: 0.6874\n",
      "Epoch 4/25\n",
      "6560/6680 [============================>.] - ETA: 0s - loss: 0.5894 - acc: 0.7988Epoch 00003: val_loss did not improve\n",
      "6680/6680 [==============================] - 2s - loss: 0.5913 - acc: 0.7991 - val_loss: 1.3186 - val_acc: 0.6695\n",
      "Epoch 5/25\n",
      "6660/6680 [============================>.] - ETA: 0s - loss: 0.5803 - acc: 0.8012Epoch 00004: val_loss did not improve\n",
      "6680/6680 [==============================] - 2s - loss: 0.5803 - acc: 0.8010 - val_loss: 1.2090 - val_acc: 0.6946\n",
      "Epoch 6/25\n",
      "6640/6680 [============================>.] - ETA: 0s - loss: 0.5411 - acc: 0.8167Epoch 00005: val_loss did not improve\n",
      "6680/6680 [==============================] - 2s - loss: 0.5439 - acc: 0.8160 - val_loss: 1.1342 - val_acc: 0.7126\n",
      "Epoch 7/25\n",
      "6620/6680 [============================>.] - ETA: 0s - loss: 0.5339 - acc: 0.8147Epoch 00006: val_loss did not improve\n",
      "6680/6680 [==============================] - 2s - loss: 0.5324 - acc: 0.8148 - val_loss: 1.2121 - val_acc: 0.7018\n",
      "Epoch 8/25\n",
      "6660/6680 [============================>.] - ETA: 0s - loss: 0.4969 - acc: 0.8300Epoch 00007: val_loss did not improve\n",
      "6680/6680 [==============================] - 2s - loss: 0.4967 - acc: 0.8299 - val_loss: 1.2269 - val_acc: 0.7269\n",
      "Epoch 9/25\n",
      "6600/6680 [============================>.] - ETA: 0s - loss: 0.4928 - acc: 0.8377Epoch 00008: val_loss did not improve\n",
      "6680/6680 [==============================] - 2s - loss: 0.4926 - acc: 0.8371 - val_loss: 1.2295 - val_acc: 0.7054\n",
      "Epoch 10/25\n",
      "6580/6680 [============================>.] - ETA: 0s - loss: 0.4669 - acc: 0.8433Epoch 00009: val_loss did not improve\n",
      "6680/6680 [==============================] - 2s - loss: 0.4674 - acc: 0.8428 - val_loss: 1.3201 - val_acc: 0.7018\n",
      "Epoch 11/25\n",
      "6640/6680 [============================>.] - ETA: 0s - loss: 0.4430 - acc: 0.8467Epoch 00010: val_loss did not improve\n",
      "6680/6680 [==============================] - 2s - loss: 0.4432 - acc: 0.8466 - val_loss: 1.2799 - val_acc: 0.7186\n",
      "Epoch 12/25\n",
      "6640/6680 [============================>.] - ETA: 0s - loss: 0.4606 - acc: 0.8494Epoch 00011: val_loss did not improve\n",
      "6680/6680 [==============================] - 2s - loss: 0.4617 - acc: 0.8491 - val_loss: 1.3345 - val_acc: 0.6946\n",
      "Epoch 13/25\n",
      "6640/6680 [============================>.] - ETA: 0s - loss: 0.4262 - acc: 0.8593Epoch 00012: val_loss did not improve\n",
      "6680/6680 [==============================] - 2s - loss: 0.4269 - acc: 0.8590 - val_loss: 1.4300 - val_acc: 0.7042\n",
      "Epoch 14/25\n",
      "6600/6680 [============================>.] - ETA: 0s - loss: 0.4287 - acc: 0.8655Epoch 00013: val_loss did not improve\n",
      "6680/6680 [==============================] - 2s - loss: 0.4284 - acc: 0.8654 - val_loss: 1.2183 - val_acc: 0.7293\n",
      "Epoch 15/25\n",
      "6660/6680 [============================>.] - ETA: 0s - loss: 0.4031 - acc: 0.8644Epoch 00014: val_loss did not improve\n",
      "6680/6680 [==============================] - 2s - loss: 0.4029 - acc: 0.8641 - val_loss: 1.4604 - val_acc: 0.7018\n",
      "Epoch 16/25\n",
      "6580/6680 [============================>.] - ETA: 0s - loss: 0.4039 - acc: 0.8673Epoch 00015: val_loss did not improve\n",
      "6680/6680 [==============================] - 2s - loss: 0.4048 - acc: 0.8669 - val_loss: 1.6683 - val_acc: 0.6850\n",
      "Epoch 17/25\n",
      "6580/6680 [============================>.] - ETA: 0s - loss: 0.4043 - acc: 0.8687Epoch 00016: val_loss did not improve\n",
      "6680/6680 [==============================] - 2s - loss: 0.4061 - acc: 0.8680 - val_loss: 1.4525 - val_acc: 0.7150\n",
      "Epoch 18/25\n",
      "6640/6680 [============================>.] - ETA: 0s - loss: 0.3655 - acc: 0.8752Epoch 00017: val_loss did not improve\n",
      "6680/6680 [==============================] - 2s - loss: 0.3660 - acc: 0.8753 - val_loss: 1.5041 - val_acc: 0.7174\n",
      "Epoch 19/25\n",
      "6540/6680 [============================>.] - ETA: 0s - loss: 0.3780 - acc: 0.8723Epoch 00018: val_loss did not improve\n",
      "6680/6680 [==============================] - 2s - loss: 0.3804 - acc: 0.8719 - val_loss: 1.4111 - val_acc: 0.7222\n",
      "Epoch 20/25\n",
      "6640/6680 [============================>.] - ETA: 0s - loss: 0.3757 - acc: 0.8762Epoch 00019: val_loss did not improve\n",
      "6680/6680 [==============================] - 2s - loss: 0.3744 - acc: 0.8768 - val_loss: 1.6279 - val_acc: 0.7066\n",
      "Epoch 21/25\n",
      "6580/6680 [============================>.] - ETA: 0s - loss: 0.3561 - acc: 0.8780Epoch 00020: val_loss did not improve\n",
      "6680/6680 [==============================] - 2s - loss: 0.3564 - acc: 0.8781 - val_loss: 1.5896 - val_acc: 0.6970\n",
      "Epoch 22/25\n",
      "6640/6680 [============================>.] - ETA: 0s - loss: 0.3362 - acc: 0.8890Epoch 00021: val_loss did not improve\n",
      "6680/6680 [==============================] - 2s - loss: 0.3365 - acc: 0.8891 - val_loss: 1.6128 - val_acc: 0.7030\n",
      "Epoch 23/25\n",
      "6660/6680 [============================>.] - ETA: 0s - loss: 0.3376 - acc: 0.8868Epoch 00022: val_loss did not improve\n",
      "6680/6680 [==============================] - 2s - loss: 0.3388 - acc: 0.8868 - val_loss: 1.5620 - val_acc: 0.6958\n",
      "Epoch 24/25\n",
      "6660/6680 [============================>.] - ETA: 0s - loss: 0.3434 - acc: 0.8856Epoch 00023: val_loss did not improve\n",
      "6680/6680 [==============================] - 2s - loss: 0.3432 - acc: 0.8855 - val_loss: 1.7174 - val_acc: 0.6946\n",
      "Epoch 25/25\n",
      "6580/6680 [============================>.] - ETA: 0s - loss: 0.3201 - acc: 0.8970Epoch 00024: val_loss did not improve\n",
      "6680/6680 [==============================] - 2s - loss: 0.3210 - acc: 0.8964 - val_loss: 1.4666 - val_acc: 0.7174\n"
     ]
    },
    {
     "data": {
      "text/plain": [
       "<keras.callbacks.History at 0x7fb0f9a59780>"
      ]
     },
     "execution_count": 114,
     "metadata": {},
     "output_type": "execute_result"
    }
   ],
   "source": [
    "### TODO: Train the model.\n",
    "checkpointer = ModelCheckpoint(filepath='saved_models/weights.best.from_transfer.hdf5', \n",
    "                               verbose=1, save_best_only=True)\n",
    "\n",
    "resnet_model.fit(train_Resnet50, train_targets, \n",
    "          validation_data=(valid_Resnet50, valid_targets),\n",
    "          epochs=25, batch_size=20, callbacks=[checkpointer], verbose=1)"
   ]
  },
  {
   "cell_type": "markdown",
   "metadata": {},
   "source": [
    "### (IMPLEMENTATION) Load the Model with the Best Validation Loss"
   ]
  },
  {
   "cell_type": "code",
   "execution_count": 115,
   "metadata": {
    "collapsed": true
   },
   "outputs": [],
   "source": [
    "### TODO: Load the model weights with the best validation loss.\n",
    "resnet_model.load_weights('saved_models/weights.best.from_transfer.hdf5')"
   ]
  },
  {
   "cell_type": "markdown",
   "metadata": {},
   "source": [
    "### (IMPLEMENTATION) Test the Model\n",
    "\n",
    "Try out your model on the test dataset of dog images. Ensure that your test accuracy is greater than 60%."
   ]
  },
  {
   "cell_type": "code",
   "execution_count": 116,
   "metadata": {},
   "outputs": [
    {
     "name": "stdout",
     "output_type": "stream",
     "text": [
      "Test accuracy: 67.1053%\n"
     ]
    }
   ],
   "source": [
    "### TODO: Calculate classification accuracy on the test dataset.\n",
    "# get index of predicted dog breed for each image in test set\n",
    "resnet_predictions = [np.argmax(resnet_model.predict(np.expand_dims(feature, axis=0))) for feature in test_Resnet50]\n",
    "\n",
    "# report test accuracy\n",
    "test_accuracy = 100*np.sum(np.array(resnet_predictions)==np.argmax(test_targets, axis=1))/len(resnet_predictions)\n",
    "print('Test accuracy: %.4f%%' % test_accuracy)"
   ]
  },
  {
   "cell_type": "markdown",
   "metadata": {},
   "source": [
    "### (IMPLEMENTATION) Predict Dog Breed with the Model\n",
    "\n",
    "Write a function that takes an image path as input and returns the dog breed (`Affenpinscher`, `Afghan_hound`, etc) that is predicted by your model.  \n",
    "\n",
    "Similar to the analogous function in Step 5, your function should have three steps:\n",
    "1. Extract the bottleneck features corresponding to the chosen CNN model.\n",
    "2. Supply the bottleneck features as input to the model to return the predicted vector.  Note that the argmax of this prediction vector gives the index of the predicted dog breed.\n",
    "3. Use the `dog_names` array defined in Step 0 of this notebook to return the corresponding breed.\n",
    "\n",
    "The functions to extract the bottleneck features can be found in `extract_bottleneck_features.py`, and they have been imported in an earlier code cell.  To obtain the bottleneck features corresponding to your chosen CNN architecture, you need to use the function\n",
    "\n",
    "    extract_{network}\n",
    "    \n",
    "where `{network}`, in the above filename, should be one of `VGG19`, `Resnet50`, `InceptionV3`, or `Xception`."
   ]
  },
  {
   "cell_type": "code",
   "execution_count": 118,
   "metadata": {},
   "outputs": [
    {
     "name": "stdout",
     "output_type": "stream",
     "text": [
      "Downloading data from https://github.com/fchollet/deep-learning-models/releases/download/v0.2/resnet50_weights_tf_dim_ordering_tf_kernels_notop.h5\n",
      "Callie is estimated to be a Chihuahua\n"
     ]
    }
   ],
   "source": [
    "### TODO: Write a function that takes a path to an image as input\n",
    "### and returns the dog breed that is predicted by the model.\n",
    "def resnet_predict_breed(img_path):\n",
    "    # extract bottleneck features\n",
    "    bottleneck_feature = extract_Resnet50(path_to_tensor(img_path))\n",
    "    # obtain predicted vector\n",
    "    predicted_vector = resnet_model.predict(bottleneck_feature)\n",
    "    # return dog breed that is predicted by the model\n",
    "    return dog_names[np.argmax(predicted_vector)]\n",
    "\n",
    "dog_type = resnet_predict_breed('callie_image.jpg')\n",
    "print('Callie is estimated to be a %s' % dog_type)"
   ]
  },
  {
   "cell_type": "markdown",
   "metadata": {},
   "source": [
    "---\n",
    "<a id='step6'></a>\n",
    "## Step 6: Write your Algorithm\n",
    "\n",
    "Write an algorithm that accepts a file path to an image and first determines whether the image contains a human, dog, or neither.  Then,\n",
    "- if a __dog__ is detected in the image, return the predicted breed.\n",
    "- if a __human__ is detected in the image, return the resembling dog breed.\n",
    "- if __neither__ is detected in the image, provide output that indicates an error.\n",
    "\n",
    "You are welcome to write your own functions for detecting humans and dogs in images, but feel free to use the `face_detector` and `dog_detector` functions developed above.  You are __required__ to use your CNN from Step 5 to predict dog breed.  \n",
    "\n",
    "Some sample output for our algorithm is provided below, but feel free to design your own user experience!\n",
    "\n",
    "![Sample Human Output](images/sample_human_output.png)\n",
    "\n",
    "\n",
    "### (IMPLEMENTATION) Write your Algorithm"
   ]
  },
  {
   "cell_type": "code",
   "execution_count": 140,
   "metadata": {},
   "outputs": [],
   "source": [
    "### TODO: Write your algorithm.\n",
    "### Feel free to use as many code cells as needed.\n",
    "def get_your_dog(img_path):\n",
    "    print('Analyzing image %s' % img_path)\n",
    "    has_dog = dog_detector(img_path)\n",
    "    print('has_dog is %s' % has_dog)\n",
    "    has_human = face_detector(img_path)\n",
    "    print('has_human is %s' % has_human)\n",
    "    if (has_dog or has_human):\n",
    "        breed = resnet_predict_breed(img_path)\n",
    "        if (has_dog):\n",
    "            print('Your dog appears to be a %s\\n' % breed)\n",
    "        elif (has_human):\n",
    "            print('This person appears to be a %s\\n' % breed)\n",
    "    else:\n",
    "        print('I don\\'t see anything dog-like in this picture\\n')"
   ]
  },
  {
   "cell_type": "markdown",
   "metadata": {},
   "source": [
    "---\n",
    "<a id='step7'></a>\n",
    "## Step 7: Test Your Algorithm\n",
    "\n",
    "In this section, you will take your new algorithm for a spin!  What kind of dog does the algorithm think that __you__ look like?  If you have a dog, does it predict your dog's breed accurately?  If you have a cat, does it mistakenly think that your cat is a dog?\n",
    "\n",
    "### (IMPLEMENTATION) Test Your Algorithm on Sample Images!\n",
    "\n",
    "Test your algorithm at least six images on your computer.  Feel free to use any images you like.  Use at least two human and two dog images.  \n",
    "\n",
    "__Question 6:__ Is the output better than you expected :) ?  Or worse :( ?  Provide at least three possible points of improvement for your algorithm.\n",
    "\n",
    "__Answer:__ It's a bit worse than I expected. \n",
    "* For one of the dog images, the dog detector identifies as False. This is likely because of the profile style picture and the dog having its ears back. Images of this type could be included in the image set for dogs to help with this scenario.\n",
    "* For one of the human images, the person was identified as True both by the dog detector and the face detector. I'll be honest and say this was a picture of me prior to some much-needed jaw surgery. The jaw and teeth may have played a role in the classification here. My algorithm is biased to accepting a \"dog\" determination over a \"human\", which could be changed with a simple re-ordering of the logic. This would avoid outright calling a person a dog.\n",
    "* The time required to determine a breed prediction is longer than I had anticipated it would be. It would be nice to have faster performance in this area."
   ]
  },
  {
   "cell_type": "code",
   "execution_count": 142,
   "metadata": {},
   "outputs": [
    {
     "name": "stdout",
     "output_type": "stream",
     "text": [
      "Analyzing image final_test_images/mountain.jpg\n",
      "has_dog is False\n",
      "has_human is False\n",
      "I don't see anything dog-like in this picture\n",
      "\n",
      "Analyzing image final_test_images/callie_image.jpg\n",
      "has_dog is False\n",
      "has_human is True\n",
      "This person appears to be a Chihuahua\n",
      "\n",
      "Analyzing image final_test_images/doug_head.jpg\n",
      "has_dog is False\n",
      "has_human is True\n",
      "This person appears to be a Portuguese_water_dog\n",
      "\n",
      "Analyzing image final_test_images/doug-pre.jpg\n",
      "has_dog is True\n",
      "has_human is True\n",
      "Your dog appears to be a Kerry_blue_terrier\n",
      "\n",
      "Analyzing image final_test_images/cole_image.jpg\n",
      "has_dog is True\n",
      "has_human is False\n",
      "Your dog appears to be a Border_collie\n",
      "\n",
      "Analyzing image final_test_images/flowers.jpg\n",
      "has_dog is False\n",
      "has_human is False\n",
      "I don't see anything dog-like in this picture\n",
      "\n",
      "Analyzing image final_test_images/cat_image.jpg\n",
      "has_dog is False\n",
      "has_human is False\n",
      "I don't see anything dog-like in this picture\n",
      "\n"
     ]
    }
   ],
   "source": [
    "## TODO: Execute your algorithm from Step 6 on\n",
    "## at least 6 images on your computer.\n",
    "## Feel free to use as many code cells as needed.\n",
    "get_your_dog('final_test_images/mountain.jpg')\n",
    "get_your_dog('final_test_images/callie_image.jpg')\n",
    "get_your_dog('final_test_images/doug_head.jpg')\n",
    "get_your_dog('final_test_images/doug-pre.jpg')\n",
    "get_your_dog('final_test_images/cole_image.jpg')\n",
    "get_your_dog('final_test_images/flowers.jpg')\n",
    "get_your_dog('final_test_images/cat_image.jpg')"
   ]
  },
  {
   "cell_type": "code",
   "execution_count": null,
   "metadata": {
    "collapsed": true
   },
   "outputs": [],
   "source": []
  }
 ],
 "metadata": {
  "anaconda-cloud": {},
  "kernelspec": {
   "display_name": "Python 3",
   "language": "python",
   "name": "python3"
  },
  "language_info": {
   "codemirror_mode": {
    "name": "ipython",
    "version": 3
   },
   "file_extension": ".py",
   "mimetype": "text/x-python",
   "name": "python",
   "nbconvert_exporter": "python",
   "pygments_lexer": "ipython3",
   "version": "3.6.1"
  }
 },
 "nbformat": 4,
 "nbformat_minor": 1
}
